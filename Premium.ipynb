{
 "cells": [
  {
   "cell_type": "markdown",
   "id": "f014a840",
   "metadata": {},
   "source": [
    "# Real Time Premium Check"
   ]
  },
  {
   "cell_type": "code",
   "execution_count": 17,
   "id": "d887f4b4",
   "metadata": {},
   "outputs": [
    {
     "name": "stdout",
     "output_type": "stream",
     "text": [
      "1188.0\n"
     ]
    }
   ],
   "source": [
    "# Exchange Rate > EXR in late codes\n",
    "# Memo: 환율이 낮을 때 원을 달러로 바꾸고 환율이 높을 때 달러를 원으로\n",
    "\n",
    "import requests\n",
    "import json\n",
    "\n",
    "headers = {'User-Agent': 'Mozilla/5.0 (Macintosh; Intel Mac OS X 10_11_5) AppleWebKit/537.36 (KHTML, like Gecko) Chrome/50.0.2661.102 Safari/537.36'}\n",
    "\n",
    "def upbit_get_usd_krw():\n",
    "    url = 'https://quotation-api-cdn.dunamu.com/v1/forex/recent?codes=FRX.KRWUSD'\n",
    "    exchange =requests.get(url, headers=headers).json()\n",
    "    return exchange[0]['basePrice']\n",
    "\n",
    "# print(upbit_get_usd_krw())\n"
   ]
  },
  {
   "cell_type": "code",
   "execution_count": 32,
   "id": "9ecb35ac",
   "metadata": {},
   "outputs": [
    {
     "name": "stdout",
     "output_type": "stream",
     "text": [
      "0.02259999999999991 330.0 322.54200000000003\n"
     ]
    }
   ],
   "source": [
    " # Target Ticker : XLM\n",
    "\n",
    "import ccxt\n",
    "import pyupbit\n",
    "\n",
    "def get_premium_XLM():\n",
    "    binance = ccxt.binance()\n",
    "    # ticker = binance.fetch_ticker('XLM/USDT')\n",
    "    # print(ticker['open'], ticker['high'], ticker['low'], ticker['close'])\n",
    "\n",
    "    EXR = upbit_get_usd_krw()\n",
    "\n",
    "    orderbook_us = binance.fetch_order_book('XLM/USDT')\n",
    "    # for ask in orderbook_us['asks']:\n",
    "    #     print(ask[0]*EXR,ask[1])\n",
    "    us_ask = orderbook_us['asks'][0][0]*EXR\n",
    "    # print('us_ask: ',us_ask)\n",
    "\n",
    "    orderbook_kr = pyupbit.get_orderbook('KRW-XLM')\n",
    "    # for ask in orderbook_kr['orderbook_units']:\n",
    "    #    print(ask)\n",
    "    kr_bid = orderbook_kr['orderbook_units'][0]['bid_price']\n",
    "    # print('kr_bid: ',kr_bid)\n",
    "\n",
    "    prem = (kr_bid-us_ask)/kr_bid\n",
    "    \n",
    "    return (prem,kr_bid,us_ask)\n",
    "\n",
    "ret = get_premium_XLM()\n",
    "print(ret[0],ret[1],ret[2])\n",
    "# print(prem)\n",
    "\n",
    "# markets = binance.fetch_tickers()\n",
    "# print(markets.keys())\n",
    "# print('XLM/USDT' in markets.keys())"
   ]
  }
 ],
 "metadata": {
  "kernelspec": {
   "display_name": "Python 3 (ipykernel)",
   "language": "python",
   "name": "python3"
  },
  "language_info": {
   "codemirror_mode": {
    "name": "ipython",
    "version": 3
   },
   "file_extension": ".py",
   "mimetype": "text/x-python",
   "name": "python",
   "nbconvert_exporter": "python",
   "pygments_lexer": "ipython3",
   "version": "3.7.10"
  }
 },
 "nbformat": 4,
 "nbformat_minor": 5
}
