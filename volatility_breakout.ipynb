{
 "cells": [
  {
   "cell_type": "markdown",
   "id": "52dbd6b9",
   "metadata": {},
   "source": [
    "# 변동성 돌파 전략 Volatility breakout\n",
    "\n",
    "가격변동폭 계산 : 전일 고가 - 전일 저가\n",
    "\n",
    "매수 기준 : 당일 시간에서 변동폭 * (k=0.5) 이상 상승시 해당 가격에 매수\n",
    "\n",
    "매도 기준 : 당일 종가에 매도"
   ]
  },
  {
   "cell_type": "code",
   "execution_count": 24,
   "id": "7ff52f28",
   "metadata": {},
   "outputs": [],
   "source": [
    "from pyupbit import *\n",
    "import time\n",
    "import datetime"
   ]
  },
  {
   "cell_type": "code",
   "execution_count": 25,
   "id": "0b314ec0",
   "metadata": {},
   "outputs": [],
   "source": [
    "def buy_crypto(ticker):\n",
    "    pass\n",
    "\n",
    "def sell_crypto(ticker):\n",
    "    pass"
   ]
  },
  {
   "cell_type": "code",
   "execution_count": 26,
   "id": "940cb907",
   "metadata": {},
   "outputs": [],
   "source": [
    "def get_target_price(ticker,k):\n",
    "    pd = get_ohlcv(ticker)\n",
    "    price_diff = pd.iloc[-2]['high'] - pd.iloc[-2]['low']\n",
    "    target = pd.iloc[-1]['open'] + price_diff * k\n",
    "    return target"
   ]
  },
  {
   "cell_type": "code",
   "execution_count": 29,
   "id": "31964a37",
   "metadata": {},
   "outputs": [
    {
     "name": "stdout",
     "output_type": "stream",
     "text": [
      "[START] Volatility Breakout TRADER\n"
     ]
    },
    {
     "ename": "KeyboardInterrupt",
     "evalue": "",
     "output_type": "error",
     "traceback": [
      "\u001b[0;31m---------------------------------------------------------------------------\u001b[0m",
      "\u001b[0;31mKeyboardInterrupt\u001b[0m                         Traceback (most recent call last)",
      "\u001b[0;32m/tmp/ipykernel_26967/288882440.py\u001b[0m in \u001b[0;36m<module>\u001b[0;34m\u001b[0m\n\u001b[1;32m     24\u001b[0m         \u001b[0mprint\u001b[0m\u001b[0;34m(\u001b[0m\u001b[0;34m'[ERR] '\u001b[0m\u001b[0;34m,\u001b[0m \u001b[0mstr\u001b[0m\u001b[0;34m(\u001b[0m\u001b[0mdatetime\u001b[0m\u001b[0;34m.\u001b[0m\u001b[0mdatetime\u001b[0m\u001b[0;34m.\u001b[0m\u001b[0mnow\u001b[0m\u001b[0;34m(\u001b[0m\u001b[0;34m)\u001b[0m\u001b[0;34m)\u001b[0m\u001b[0;34m)\u001b[0m\u001b[0;34m\u001b[0m\u001b[0;34m\u001b[0m\u001b[0m\n\u001b[1;32m     25\u001b[0m \u001b[0;34m\u001b[0m\u001b[0m\n\u001b[0;32m---> 26\u001b[0;31m     \u001b[0mtime\u001b[0m\u001b[0;34m.\u001b[0m\u001b[0msleep\u001b[0m\u001b[0;34m(\u001b[0m\u001b[0;36m1\u001b[0m\u001b[0;34m)\u001b[0m \u001b[0;31m#prevents overload\u001b[0m\u001b[0;34m\u001b[0m\u001b[0;34m\u001b[0m\u001b[0m\n\u001b[0m",
      "\u001b[0;31mKeyboardInterrupt\u001b[0m: "
     ]
    }
   ],
   "source": [
    "ticker = \"KRW-BTC\"\n",
    "now = datetime.datetime.now()\n",
    "m_open = datetime.datetime(now.year,now.month,now.day) + datetime.timedelta(1.375)\n",
    "target = get_target_price(ticker,0.5)\n",
    "print(\"[START] Volatility Breakout TRADER\")\n",
    "\n",
    "while True:\n",
    "    try:\n",
    "        # SELL ALL & update target price when market starts\n",
    "        now = datetime.datetime.now()\n",
    "        if m_open < now < m_open + datetime.timedelta(seconds=10):\n",
    "            sell_crypto(ticker)\n",
    "            print(\"[SELL] \", str(datetime.datetime.now()))\n",
    "            flag = True\n",
    "            target = get_target_price(ticker,0.5)\n",
    "            m_open = datetime.datetime(now.year,now.month,now.day) + datetime.timedelta(1.375)\n",
    "\n",
    "        # BUY if price>target price\n",
    "        if get_current_price(ticker) > target and flag:\n",
    "            buy_crypto(ticker)\n",
    "            print(\"[BUY] \", str(datetime.datetime.now()))\n",
    "            print(\"PRICE: \",get_current_price(ticker),\" TARGET\",target)\n",
    "            flag = False\n",
    "    except:\n",
    "        print('[ERR] ', str(datetime.datetime.now()))\n",
    "\n",
    "    time.sleep(1) #prevents overload"
   ]
  }
 ],
 "metadata": {
  "kernelspec": {
   "display_name": "Python 3 (ipykernel)",
   "language": "python",
   "name": "python3"
  },
  "language_info": {
   "codemirror_mode": {
    "name": "ipython",
    "version": 3
   },
   "file_extension": ".py",
   "mimetype": "text/x-python",
   "name": "python",
   "nbconvert_exporter": "python",
   "pygments_lexer": "ipython3",
   "version": "3.7.10"
  }
 },
 "nbformat": 4,
 "nbformat_minor": 5
}
