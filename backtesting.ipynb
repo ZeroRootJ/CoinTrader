{
 "cells": [
  {
   "cell_type": "code",
   "execution_count": 54,
   "id": "831c0cb2",
   "metadata": {},
   "outputs": [],
   "source": [
    "import pyupbit\n",
    "import pybithumb\n",
    "import pandas\n",
    "import numpy as np"
   ]
  },
  {
   "cell_type": "markdown",
   "id": "a56d9632",
   "metadata": {},
   "source": [
    "# Volatality Breakout BackTest\n",
    "using upbit data 21-6-22~22-1-7 (200days)\n",
    "\n",
    "w/o fee & slippage 1.1\n",
    "\n",
    "w/ fee & slippage 0.8\n",
    "\n",
    "93 transactions made but ony 39 Earns (54 lose)\n"
   ]
  },
  {
   "cell_type": "code",
   "execution_count": 73,
   "id": "a4363bdf",
   "metadata": {},
   "outputs": [
    {
     "name": "stdout",
     "output_type": "stream",
     "text": [
      "profit:  1.5803207002955382\n",
      "# Transactions:  146 \n",
      "# Earn:  72 \n",
      "# Lose:  74\n"
     ]
    },
    {
     "name": "stderr",
     "output_type": "stream",
     "text": [
      "/home/ec2-user/CoinTrader/venv/lib64/python3.7/site-packages/ipykernel_launcher.py:6: FutureWarning: Indexing a DataFrame with a datetimelike index using a single string to slice the rows, like `frame[string]`, is deprecated and will be removed in a future version. Use `frame.loc[string]` instead.\n",
      "  \n"
     ]
    }
   ],
   "source": [
    "fee = 0.99700225\n",
    "\n",
    "df = pybithumb.get_ohlcv(\"BTC\")\n",
    "#print(df)\n",
    "\n",
    "df=df['2021']\n",
    "\n",
    "df['diff'] = (df['high']-df['low'])*0.5\n",
    "df['diff_shift1'] = df['diff'].shift(1)\n",
    "df['target'] = df['open']+df['diff_shift1']\n",
    "\n",
    "df['profit'] = np.where(df['high']>df['target'],df['close']/df['target']*fee,1)\n",
    "profit = df['profit'].cumprod()[-2]\n",
    "\n",
    "print('profit: ',profit)\n",
    "print('# Transactions: ',len(df[df.profit!=1]),'\\n# Earn: ',len(df[df.profit>1]),'\\n# Lose: ',len(df[df.profit<1]))\n",
    "# df[['open','close','high','target','profit']]\n",
    "# print(df[df.profit>1].profit.cumprod()[-1])"
   ]
  },
  {
   "cell_type": "markdown",
   "id": "eb9f9524",
   "metadata": {},
   "source": [
    "# ma5 + volatality breakout\n",
    "volatality breakout의 조건을 만족할 때 5일 이동평균을 이용하여 상승장일때만 투자"
   ]
  },
  {
   "cell_type": "code",
   "execution_count": 72,
   "id": "e91076ba",
   "metadata": {},
   "outputs": [
    {
     "name": "stdout",
     "output_type": "stream",
     "text": [
      "                  open        high         low       close        volume\n",
      "time                                                                    \n",
      "2021-01-01  31596000.0  32588000.0  31552000.0  32235000.0   5116.190038\n",
      "2021-01-02  32235000.0  34675000.0  31765000.0  34364000.0   7210.472445\n",
      "2021-01-03  34364000.0  39427000.0  33691000.0  38096000.0  18610.038345\n",
      "2021-01-04  38069000.0  38399000.0  32100000.0  36632000.0  20613.877392\n",
      "2021-01-05  36649000.0  37400000.0  34265000.0  36512000.0  10671.142278\n",
      "...                ...         ...         ...         ...           ...\n",
      "2021-12-27  60710000.0  62029000.0  60640000.0  61958000.0   1311.029986\n",
      "2021-12-28  61957000.0  62500000.0  59400000.0  59937000.0   1597.031947\n",
      "2021-12-29  59930000.0  60014000.0  56977000.0  58141000.0   3340.616797\n",
      "2021-12-30  58114000.0  58450000.0  56258000.0  57593000.0   4141.335422\n",
      "2021-12-31  57593000.0  58870000.0  56910000.0  58441000.0   3672.171265\n",
      "\n",
      "[365 rows x 5 columns]\n",
      "profit:  1.2167601488969615\n",
      "# Transactions:  81 \n",
      "# Earn:  41 \n",
      "# Lose:  40\n"
     ]
    },
    {
     "name": "stderr",
     "output_type": "stream",
     "text": [
      "/home/ec2-user/CoinTrader/venv/lib64/python3.7/site-packages/ipykernel_launcher.py:4: FutureWarning: Indexing a DataFrame with a datetimelike index using a single string to slice the rows, like `frame[string]`, is deprecated and will be removed in a future version. Use `frame.loc[string]` instead.\n",
      "  after removing the cwd from sys.path.\n"
     ]
    }
   ],
   "source": [
    "\n",
    "\n",
    "fee = 0.99700225\n",
    "\n",
    "df = pybithumb.get_ohlcv('BTC')\n",
    "df = df['2021']\n",
    "# print(df)\n",
    "\n",
    "df['diff'] = (df['high']-df['low'])*0.5\n",
    "df['diff_shift1'] = df['diff'].shift(1)\n",
    "df['target'] = df['open']+df['diff_shift1']\n",
    "df['ma5'] = df['close'].rolling(5).mean()\n",
    "df['ma5_shift1'] = df['ma5'].shift(1)\n",
    "df[['close','ma5','ma5_shift1']]\n",
    "df['profit'] = np.where((df['high']>df['target']) & (df['open']>df['ma5_shift1']),df['close']/df['target']*fee,1)\n",
    "profit = df['profit'].cumprod()[-2]\n",
    "\n",
    "print('profit: ',profit)\n",
    "print('# Transactions: ',len(df[df.profit!=1]),'\\n# Earn: ',len(df[df.profit>1]),'\\n# Lose: ',len(df[df.profit<1]))                            "
   ]
  }
 ],
 "metadata": {
  "kernelspec": {
   "display_name": "Python 3 (ipykernel)",
   "language": "python",
   "name": "python3"
  },
  "language_info": {
   "codemirror_mode": {
    "name": "ipython",
    "version": 3
   },
   "file_extension": ".py",
   "mimetype": "text/x-python",
   "name": "python",
   "nbconvert_exporter": "python",
   "pygments_lexer": "ipython3",
   "version": "3.7.10"
  }
 },
 "nbformat": 4,
 "nbformat_minor": 5
}
