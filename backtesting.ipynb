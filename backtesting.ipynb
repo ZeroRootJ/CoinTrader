{
 "cells": [
  {
   "cell_type": "code",
   "execution_count": 12,
   "id": "831c0cb2",
   "metadata": {},
   "outputs": [],
   "source": [
    "from pyupbit import *\n",
    "import pandas\n",
    "import numpy as np"
   ]
  },
  {
   "cell_type": "markdown",
   "id": "a56d9632",
   "metadata": {},
   "source": [
    "# Volatality Breakout BackTest\n",
    "using upbit data 21-6-22~22-1-7 (200days)\n",
    "\n",
    "w/o fee & slippage 1.1\n",
    "\n",
    "w/ fee & slippage 0.8\n",
    "\n",
    "93 transactions made but ony 39 Earns (54 lose)\n"
   ]
  },
  {
   "cell_type": "code",
   "execution_count": 38,
   "id": "a4363bdf",
   "metadata": {},
   "outputs": [
    {
     "name": "stdout",
     "output_type": "stream",
     "text": [
      "profit:  0.831354446561785\n",
      "# Transactions:  93 \n",
      "# Earn:  39 \n",
      "# Lose:  54\n"
     ]
    }
   ],
   "source": [
    "fee = 0.99700225\n",
    "\n",
    "df = get_ohlcv(\"KRW-BTC\")\n",
    "#print(df)\n",
    "\n",
    "df['diff'] = (df['high']-df['low'])*0.5\n",
    "df['diff_shift1'] = df['diff'].shift(1)\n",
    "df['target'] = df['open']+df['diff_shift1']\n",
    "\n",
    "df['profit'] = np.where(df['high']>df['target'],df['close']/df['target']*fee,1)\n",
    "profit = df['profit'].cumprod()[-2]\n",
    "\n",
    "print('profit: ',profit)\n",
    "print('# Transactions: ',len(df[df.profit!=1]),'\\n# Earn: ',len(df[df.profit>1]),'\\n# Lose: ',len(df[df.profit<1]))\n",
    "# df[['open','close','high','target','profit']]\n",
    "# print(df[df.profit>1].profit.cumprod()[-1])"
   ]
  }
 ],
 "metadata": {
  "kernelspec": {
   "display_name": "Python 3 (ipykernel)",
   "language": "python",
   "name": "python3"
  },
  "language_info": {
   "codemirror_mode": {
    "name": "ipython",
    "version": 3
   },
   "file_extension": ".py",
   "mimetype": "text/x-python",
   "name": "python",
   "nbconvert_exporter": "python",
   "pygments_lexer": "ipython3",
   "version": "3.7.10"
  }
 },
 "nbformat": 4,
 "nbformat_minor": 5
}
