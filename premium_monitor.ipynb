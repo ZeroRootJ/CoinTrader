{
 "cells": [
  {
   "cell_type": "code",
   "execution_count": 12,
   "id": "75f95e03",
   "metadata": {},
   "outputs": [
    {
     "name": "stdout",
     "output_type": "stream",
     "text": [
      "2022-01-14 20:26:34 0.020271249999999873\n",
      "2022-01-14 20:26:45 0.020271249999999873\n",
      "2022-01-14 20:26:56 0.02064250000000012\n",
      "2022-01-14 20:27:06 0.021013750000000008\n"
     ]
    },
    {
     "ename": "KeyboardInterrupt",
     "evalue": "",
     "output_type": "error",
     "traceback": [
      "\u001b[0;31m---------------------------------------------------------------------------\u001b[0m",
      "\u001b[0;31mKeyboardInterrupt\u001b[0m                         Traceback (most recent call last)",
      "\u001b[0;32m/tmp/ipykernel_10246/564689398.py\u001b[0m in \u001b[0;36m<module>\u001b[0;34m\u001b[0m\n\u001b[1;32m     40\u001b[0m \u001b[0;34m\u001b[0m\u001b[0m\n\u001b[1;32m     41\u001b[0m     \u001b[0mprint\u001b[0m\u001b[0;34m(\u001b[0m\u001b[0mdatetime\u001b[0m\u001b[0;34m.\u001b[0m\u001b[0mdatetime\u001b[0m\u001b[0;34m.\u001b[0m\u001b[0mnow\u001b[0m\u001b[0;34m(\u001b[0m\u001b[0;34m)\u001b[0m\u001b[0;34m.\u001b[0m\u001b[0mstrftime\u001b[0m\u001b[0;34m(\u001b[0m\u001b[0;34m'%Y-%m-%d %H:%M:%S'\u001b[0m\u001b[0;34m)\u001b[0m\u001b[0;34m,\u001b[0m \u001b[0mprem\u001b[0m\u001b[0;34m)\u001b[0m\u001b[0;34m\u001b[0m\u001b[0;34m\u001b[0m\u001b[0m\n\u001b[0;32m---> 42\u001b[0;31m     \u001b[0mtime\u001b[0m\u001b[0;34m.\u001b[0m\u001b[0msleep\u001b[0m\u001b[0;34m(\u001b[0m\u001b[0;36m10\u001b[0m\u001b[0;34m)\u001b[0m\u001b[0;34m\u001b[0m\u001b[0;34m\u001b[0m\u001b[0m\n\u001b[0m",
      "\u001b[0;31mKeyboardInterrupt\u001b[0m: "
     ]
    }
   ],
   "source": [
    "import requests\n",
    "import json\n",
    "import ccxt\n",
    "import pyupbit\n",
    "import datetime\n",
    "import time\n",
    "\n",
    "\n",
    "headers = {'User-Agent': 'Mozilla/5.0 (Macintosh; Intel Mac OS X 10_11_5) AppleWebKit/537.36 (KHTML, like Gecko) Chrome/50.0.2661.102 Safari/537.36'}\n",
    "\n",
    "def upbit_get_usd_krw():\n",
    "    url = 'https://quotation-api-cdn.dunamu.com/v1/forex/recent?codes=FRX.KRWUSD'\n",
    "    exchange =requests.get(url, headers=headers).json()\n",
    "    return exchange[0]['basePrice']\n",
    "\n",
    "def get_premium_XLM():\n",
    "    binance = ccxt.binance()\n",
    "    EXR = upbit_get_usd_krw()\n",
    "    orderbook_us = binance.fetch_order_book('XLM/USDT')\n",
    "\n",
    "    us_ask = orderbook_us['asks'][0][0]*EXR\n",
    "    orderbook_kr = pyupbit.get_orderbook('KRW-XLM')\n",
    "\n",
    "    kr_bid = orderbook_kr['orderbook_units'][0]['bid_price']\n",
    "    prem = (kr_bid-us_ask)/kr_bid\n",
    "    \n",
    "    return (prem,kr_bid,us_ask)\n",
    "\n",
    "flag = False\n",
    "prem = 0.02\n",
    "while(True):\n",
    "    past = prem\n",
    "    prem = get_premium_XLM()[0]\n",
    "    if flag is False and prem < -0.02:\n",
    "        print('*****BUY*****')\n",
    "        flag = True\n",
    "    elif flag and prem > 0:\n",
    "        print('*****SELL*****')\n",
    "        flag = False\n",
    "        \n",
    "    print(datetime.datetime.now().strftime('%Y-%m-%d %H:%M:%S'), prem)\n",
    "    time.sleep(10)"
   ]
  }
 ],
 "metadata": {
  "kernelspec": {
   "display_name": "Python 3 (ipykernel)",
   "language": "python",
   "name": "python3"
  },
  "language_info": {
   "codemirror_mode": {
    "name": "ipython",
    "version": 3
   },
   "file_extension": ".py",
   "mimetype": "text/x-python",
   "name": "python",
   "nbconvert_exporter": "python",
   "pygments_lexer": "ipython3",
   "version": "3.7.10"
  }
 },
 "nbformat": 4,
 "nbformat_minor": 5
}
