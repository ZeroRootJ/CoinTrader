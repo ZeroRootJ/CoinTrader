{
 "cells": [
  {
   "cell_type": "markdown",
   "id": "0196eee7",
   "metadata": {},
   "source": [
    "# TEST CODE for pyupbit module"
   ]
  },
  {
   "cell_type": "code",
   "execution_count": 1,
   "id": "470bfa8d",
   "metadata": {},
   "outputs": [
    {
     "name": "stdout",
     "output_type": "stream",
     "text": [
      "<class 'pyupbit.exchange_api.Upbit'>\n"
     ]
    }
   ],
   "source": [
    "from pyupbit import *\n",
    "print(Upbit)"
   ]
  },
  {
   "cell_type": "code",
   "execution_count": 2,
   "id": "c40e4a06",
   "metadata": {},
   "outputs": [
    {
     "name": "stdout",
     "output_type": "stream",
     "text": [
      "['KRW-BTC', 'KRW-ETH', 'KRW-NEO', 'KRW-MTL', 'KRW-LTC', 'KRW-XRP', 'KRW-ETC', 'KRW-OMG', 'KRW-SNT', 'KRW-WAVES', 'KRW-XEM', 'KRW-QTUM', 'KRW-LSK', 'KRW-STEEM', 'KRW-XLM', 'KRW-ARDR', 'KRW-ARK', 'KRW-STORJ', 'KRW-GRS', 'KRW-REP', 'KRW-ADA', 'KRW-SBD', 'KRW-POWR', 'KRW-BTG', 'KRW-ICX', 'KRW-EOS', 'KRW-TRX', 'KRW-SC', 'KRW-ONT', 'KRW-ZIL', 'KRW-POLY', 'KRW-ZRX', 'KRW-LOOM', 'KRW-BCH', 'KRW-BAT', 'KRW-IOST', 'KRW-RFR', 'KRW-CVC', 'KRW-IQ', 'KRW-IOTA', 'KRW-MFT', 'KRW-ONG', 'KRW-GAS', 'KRW-UPP', 'KRW-ELF', 'KRW-KNC', 'KRW-BSV', 'KRW-THETA', 'KRW-QKC', 'KRW-BTT', 'KRW-MOC', 'KRW-ENJ', 'KRW-TFUEL', 'KRW-MANA', 'KRW-ANKR', 'KRW-AERGO', 'KRW-ATOM', 'KRW-TT', 'KRW-CRE', 'KRW-MBL', 'KRW-WAXP', 'KRW-HBAR', 'KRW-MED', 'KRW-MLK', 'KRW-STPT', 'KRW-ORBS', 'KRW-VET', 'KRW-CHZ', 'KRW-STMX', 'KRW-DKA', 'KRW-HIVE', 'KRW-KAVA', 'KRW-AHT', 'KRW-LINK', 'KRW-XTZ', 'KRW-BORA', 'KRW-JST', 'KRW-CRO', 'KRW-TON', 'KRW-SXP', 'KRW-HUNT', 'KRW-PLA', 'KRW-DOT', 'KRW-SRM', 'KRW-MVL', 'KRW-STRAX', 'KRW-AQT', 'KRW-GLM', 'KRW-SSX', 'KRW-META', 'KRW-FCT2', 'KRW-CBK', 'KRW-SAND', 'KRW-HUM', 'KRW-DOGE', 'KRW-STRK', 'KRW-PUNDIX', 'KRW-FLOW', 'KRW-DAWN', 'KRW-AXS', 'KRW-STX', 'KRW-XEC', 'KRW-SOL', 'KRW-MATIC', 'KRW-NU', 'KRW-AAVE', 'KRW-1INCH', 'KRW-ALGO', 'KRW-NEAR']\n"
     ]
    }
   ],
   "source": [
    "tickers = get_tickers()\n",
    "\n",
    "k_tickers = []\n",
    "for ticker in tickers:\n",
    "    if ticker[0] is \"K\":\n",
    "        k_tickers.append(ticker)\n",
    "print(k_tickers)"
   ]
  },
  {
   "cell_type": "code",
   "execution_count": 3,
   "id": "5593cbe7",
   "metadata": {},
   "outputs": [
    {
     "name": "stdout",
     "output_type": "stream",
     "text": [
      "52722000.0\n"
     ]
    }
   ],
   "source": [
    "price = get_current_price(\"KRW-BTC\")\n",
    "# price = get_current_price([\"KRW-BTC\",\"KRW-ETH\"])\n",
    "print(price)\n"
   ]
  },
  {
   "cell_type": "code",
   "execution_count": 4,
   "id": "55b1cca6",
   "metadata": {},
   "outputs": [
    {
     "name": "stdout",
     "output_type": "stream",
     "text": [
      "                           open        high         low       close  \\\n",
      "2022-01-04 09:00:00  56640000.0  57685000.0  56000000.0  56023000.0   \n",
      "2022-01-05 09:00:00  56023000.0  57100000.0  52701000.0  53854000.0   \n",
      "2022-01-06 09:00:00  53854000.0  54300000.0  52388000.0  52729000.0   \n",
      "\n",
      "                          volume         value  \n",
      "2022-01-04 09:00:00  6053.445802  3.425126e+11  \n",
      "2022-01-05 09:00:00  9296.798714  5.152768e+11  \n",
      "2022-01-06 09:00:00  3773.252198  2.008756e+11  \n"
     ]
    }
   ],
   "source": [
    "df = get_ohlcv(\"KRW-BTC\")\n",
    "#df.get_ohlcv(\"KRW-BTC\", count=5, interval=\"minute1\")\n",
    "print(df.iloc[-3:])"
   ]
  },
  {
   "cell_type": "code",
   "execution_count": 5,
   "id": "d6042e5b",
   "metadata": {},
   "outputs": [
    {
     "data": {
      "text/plain": [
       "{'ask_price': 52729000.0,\n",
       " 'bid_price': 52728000.0,\n",
       " 'ask_size': 0.05574652,\n",
       " 'bid_size': 0.00014211}"
      ]
     },
     "execution_count": 5,
     "metadata": {},
     "output_type": "execute_result"
    }
   ],
   "source": [
    "# bid(매수호가) ask(매도호가) lookup\n",
    "orderbook = get_orderbook(\"KRW-BTC\")\n",
    "orderbook['orderbook_units'][0]"
   ]
  },
  {
   "cell_type": "code",
   "execution_count": 6,
   "id": "10241ce6",
   "metadata": {},
   "outputs": [
    {
     "name": "stdout",
     "output_type": "stream",
     "text": [
      "{'ACCESS_KEY': 'zvOAEbIJVAAC8XxIE0xKaoOhNlvtYsG7zVdDp0Zb', 'SECRET_KEY': 'Cit51EZ5AlHIGaZIxgJGR3vTLyQuCNxVGzMT7oaP'}\n"
     ]
    }
   ],
   "source": [
    "# secret key managment\n",
    "import json\n",
    "key_file = 'keys.json'\n",
    "with open(key_file,'r',encoding=\"UTF-8\") as f:\n",
    "    keys = json.loads(f.read())\n",
    "f.close()\n",
    "print(keys)"
   ]
  },
  {
   "cell_type": "code",
   "execution_count": 7,
   "id": "97191bfb",
   "metadata": {},
   "outputs": [
    {
     "name": "stdout",
     "output_type": "stream",
     "text": [
      "400\n",
      "실명확인 입출금 계좌 등록 후 이용가능합니다.\n",
      "bank_account_required\n",
      "UpbitError\n",
      "None\n"
     ]
    }
   ],
   "source": [
    "upbit = Upbit(keys[\"ACCESS_KEY\"],keys[\"SECRET_KEY\"])\n",
    "# ticker, price, number\n",
    "# 지정가 매수\n",
    "# ret = upbit.buy_limit_order(\"KRW-XRP\",100,20)\n",
    "# 지정가 판매\n",
    "# ret = upbit.sell_limit_order(\"KRW-XRP\",100,20)\n",
    "# 주문 취소\n",
    "# ret = upbit.cancel_order(\"KRW-XRP\",100,20)\n",
    "#print(ret)"
   ]
  }
 ],
 "metadata": {
  "kernelspec": {
   "display_name": "Python 3 (ipykernel)",
   "language": "python",
   "name": "python3"
  },
  "language_info": {
   "codemirror_mode": {
    "name": "ipython",
    "version": 3
   },
   "file_extension": ".py",
   "mimetype": "text/x-python",
   "name": "python",
   "nbconvert_exporter": "python",
   "pygments_lexer": "ipython3",
   "version": "3.7.10"
  }
 },
 "nbformat": 4,
 "nbformat_minor": 5
}
