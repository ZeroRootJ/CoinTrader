{
 "cells": [
  {
   "cell_type": "markdown",
   "id": "0196eee7",
   "metadata": {},
   "source": [
    "TEST CODE for pyupbit module"
   ]
  },
  {
   "cell_type": "code",
   "execution_count": 2,
   "id": "470bfa8d",
   "metadata": {},
   "outputs": [
    {
     "name": "stdout",
     "output_type": "stream",
     "text": [
      "<class 'pyupbit.exchange_api.Upbit'>\n"
     ]
    }
   ],
   "source": [
    "from pyupbit import *\n",
    "print(Upbit)"
   ]
  },
  {
   "cell_type": "code",
   "execution_count": 9,
   "id": "c40e4a06",
   "metadata": {},
   "outputs": [
    {
     "name": "stdout",
     "output_type": "stream",
     "text": [
      "['KRW-BTC', 'KRW-ETH', 'KRW-NEO', 'KRW-MTL', 'KRW-LTC', 'KRW-XRP', 'KRW-ETC', 'KRW-OMG', 'KRW-SNT', 'KRW-WAVES', 'KRW-XEM', 'KRW-QTUM', 'KRW-LSK', 'KRW-STEEM', 'KRW-XLM', 'KRW-ARDR', 'KRW-ARK', 'KRW-STORJ', 'KRW-GRS', 'KRW-REP', 'KRW-ADA', 'KRW-SBD', 'KRW-POWR', 'KRW-BTG', 'KRW-ICX', 'KRW-EOS', 'KRW-TRX', 'KRW-SC', 'KRW-ONT', 'KRW-ZIL', 'KRW-POLY', 'KRW-ZRX', 'KRW-LOOM', 'KRW-BCH', 'KRW-BAT', 'KRW-IOST', 'KRW-RFR', 'KRW-CVC', 'KRW-IQ', 'KRW-IOTA', 'KRW-MFT', 'KRW-ONG', 'KRW-GAS', 'KRW-UPP', 'KRW-ELF', 'KRW-KNC', 'KRW-BSV', 'KRW-THETA', 'KRW-QKC', 'KRW-BTT', 'KRW-MOC', 'KRW-ENJ', 'KRW-TFUEL', 'KRW-MANA', 'KRW-ANKR', 'KRW-AERGO', 'KRW-ATOM', 'KRW-TT', 'KRW-CRE', 'KRW-MBL', 'KRW-WAXP', 'KRW-HBAR', 'KRW-MED', 'KRW-MLK', 'KRW-STPT', 'KRW-ORBS', 'KRW-VET', 'KRW-CHZ', 'KRW-STMX', 'KRW-DKA', 'KRW-HIVE', 'KRW-KAVA', 'KRW-AHT', 'KRW-LINK', 'KRW-XTZ', 'KRW-BORA', 'KRW-JST', 'KRW-CRO', 'KRW-TON', 'KRW-SXP', 'KRW-HUNT', 'KRW-PLA', 'KRW-DOT', 'KRW-SRM', 'KRW-MVL', 'KRW-STRAX', 'KRW-AQT', 'KRW-GLM', 'KRW-SSX', 'KRW-META', 'KRW-FCT2', 'KRW-CBK', 'KRW-SAND', 'KRW-HUM', 'KRW-DOGE', 'KRW-STRK', 'KRW-PUNDIX', 'KRW-FLOW', 'KRW-DAWN', 'KRW-AXS', 'KRW-STX', 'KRW-XEC', 'KRW-SOL', 'KRW-MATIC', 'KRW-NU', 'KRW-AAVE', 'KRW-1INCH', 'KRW-ALGO', 'KRW-NEAR']\n"
     ]
    }
   ],
   "source": [
    "tickers = get_tickers()\n",
    "\n",
    "k_tickers = []\n",
    "for ticker in tickers:\n",
    "    if ticker[0] is \"K\":\n",
    "        k_tickers.append(ticker)\n",
    "print(k_tickers)"
   ]
  },
  {
   "cell_type": "code",
   "execution_count": 14,
   "id": "5593cbe7",
   "metadata": {},
   "outputs": [
    {
     "name": "stdout",
     "output_type": "stream",
     "text": [
      "56344000.0\n",
      "{'KRW-BTC': 56344000.0, 'KRW-ETH': 4627000.0}\n"
     ]
    }
   ],
   "source": [
    "price = get_current_price(\"KRW-BTC\")\n",
    "# price = get_current_price([\"KRW-BTC\",\"KRW-ETH\"])\n",
    "print(price)\n"
   ]
  },
  {
   "cell_type": "markdown",
   "id": "8791f604",
   "metadata": {},
   "source": [
    "get open/high/low/close/volume/value"
   ]
  },
  {
   "cell_type": "code",
   "execution_count": 18,
   "id": "55b1cca6",
   "metadata": {},
   "outputs": [
    {
     "name": "stdout",
     "output_type": "stream",
     "text": [
      "                           open        high         low       close  \\\n",
      "2022-01-03 09:00:00  57540000.0  57749000.0  56133000.0  56641000.0   \n",
      "2022-01-04 09:00:00  56640000.0  57685000.0  56000000.0  56023000.0   \n",
      "2022-01-05 09:00:00  56023000.0  57100000.0  56001000.0  56479000.0   \n",
      "\n",
      "                          volume         value  \n",
      "2022-01-03 09:00:00  6304.958564  3.600635e+11  \n",
      "2022-01-04 09:00:00  6053.445802  3.425126e+11  \n",
      "2022-01-05 09:00:00  3750.595389  2.118581e+11  \n"
     ]
    }
   ],
   "source": [
    "df = get_ohlcv(\"KRW-BTC\")\n",
    "#df.get_ohlcv(\"KRW-BTC\", count=5, interval=\"minute1\")\n",
    "print(df.iloc[-3:])"
   ]
  },
  {
   "cell_type": "markdown",
   "id": "3e06af4a",
   "metadata": {},
   "source": [
    "bid(매수호가) ask(매도호가) lookup"
   ]
  },
  {
   "cell_type": "code",
   "execution_count": 25,
   "id": "d6042e5b",
   "metadata": {},
   "outputs": [
    {
     "data": {
      "text/plain": [
       "{'ask_price': 56464000.0,\n",
       " 'bid_price': 56447000.0,\n",
       " 'ask_size': 0.57849755,\n",
       " 'bid_size': 0.20665444}"
      ]
     },
     "execution_count": 25,
     "metadata": {},
     "output_type": "execute_result"
    }
   ],
   "source": [
    "orderbook = get_orderbook(\"KRW-BTC\")\n",
    "orderbook['orderbook_units'][0]"
   ]
  },
  {
   "cell_type": "code",
   "execution_count": null,
   "id": "10241ce6",
   "metadata": {},
   "outputs": [],
   "source": []
  }
 ],
 "metadata": {
  "kernelspec": {
   "display_name": "Python 3 (ipykernel)",
   "language": "python",
   "name": "python3"
  },
  "language_info": {
   "codemirror_mode": {
    "name": "ipython",
    "version": 3
   },
   "file_extension": ".py",
   "mimetype": "text/x-python",
   "name": "python",
   "nbconvert_exporter": "python",
   "pygments_lexer": "ipython3",
   "version": "3.7.10"
  }
 },
 "nbformat": 4,
 "nbformat_minor": 5
}
